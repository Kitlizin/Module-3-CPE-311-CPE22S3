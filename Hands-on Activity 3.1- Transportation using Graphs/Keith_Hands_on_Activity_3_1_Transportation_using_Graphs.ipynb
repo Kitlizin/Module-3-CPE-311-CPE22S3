{
  "cells": [
    {
      "cell_type": "markdown",
      "id": "32f3b9e1",
      "metadata": {
        "id": "32f3b9e1"
      },
      "source": [
        "# Hands-on Activity 1.3 | Transportation using Graphs"
      ]
    },
    {
      "cell_type": "markdown",
      "id": "a51e92c8",
      "metadata": {
        "id": "a51e92c8"
      },
      "source": [
        "#### Objective(s):\n",
        "\n",
        "This activity aims to demonstrate how to solve transportation related problem using Graphs"
      ]
    },
    {
      "cell_type": "markdown",
      "id": "3d40df8b",
      "metadata": {
        "id": "3d40df8b"
      },
      "source": [
        "#### Intended Learning Outcomes (ILOs):\n",
        "* Demonstrate how to compute the shortest path from source to destination using graphs\n",
        "* Apply DFS and BFS to compute the shortest path"
      ]
    },
    {
      "cell_type": "markdown",
      "id": "ed8f98b6",
      "metadata": {
        "id": "ed8f98b6"
      },
      "source": [
        "#### Resources:\n",
        "* Jupyter Notebook"
      ]
    },
    {
      "cell_type": "markdown",
      "id": "36301665",
      "metadata": {
        "id": "36301665"
      },
      "source": [
        "#### Procedures:"
      ]
    },
    {
      "cell_type": "markdown",
      "id": "a2f20257",
      "metadata": {
        "id": "a2f20257"
      },
      "source": [
        "1. Create a Node class"
      ]
    },
    {
      "cell_type": "code",
      "execution_count": null,
      "id": "43c51c35",
      "metadata": {
        "id": "43c51c35"
      },
      "outputs": [],
      "source": [
        "class Node(object):\n",
        "    def __init__(self, name):\n",
        "        \"\"\"Assumes name is a string\"\"\"\n",
        "        self.name = name\n",
        "    def getName(self):\n",
        "        return self.name\n",
        "    def __str__(self):\n",
        "        return self.name"
      ]
    },
    {
      "cell_type": "markdown",
      "id": "d4cd747e",
      "metadata": {
        "id": "d4cd747e"
      },
      "source": [
        "2. Create an Edge class"
      ]
    },
    {
      "cell_type": "code",
      "execution_count": null,
      "id": "b585ad3a",
      "metadata": {
        "id": "b585ad3a"
      },
      "outputs": [],
      "source": [
        "class Edge(object):\n",
        "    def __init__(self, src, dest):\n",
        "        \"\"\"Assumes src and dest are nodes\"\"\"\n",
        "        self.src = src\n",
        "        self.dest = dest\n",
        "    def getSource(self):\n",
        "        return self.src\n",
        "    def getDestination(self):\n",
        "        return self.dest\n",
        "    def __str__(self):\n",
        "        return self.src.getName() + '->' + self.dest.getName()"
      ]
    },
    {
      "cell_type": "markdown",
      "id": "43fb73dd",
      "metadata": {
        "id": "43fb73dd"
      },
      "source": [
        "3. Create Digraph class that add nodes and edges"
      ]
    },
    {
      "cell_type": "code",
      "execution_count": null,
      "id": "68d3735b",
      "metadata": {
        "id": "68d3735b"
      },
      "outputs": [],
      "source": [
        "class Digraph(object):\n",
        "    \"\"\"edges is a dict mapping each node to a list of\n",
        "    its children\"\"\"\n",
        "    def __init__(self):\n",
        "        self.edges = {}\n",
        "    def addNode(self, node):\n",
        "        if node in self.edges:\n",
        "            raise ValueError('Duplicate node')\n",
        "        else:\n",
        "            self.edges[node] = []\n",
        "    def addEdge(self, edge):\n",
        "        src = edge.getSource()\n",
        "        dest = edge.getDestination()\n",
        "        if not (src in self.edges and dest in self.edges):\n",
        "            raise ValueError('Node not in graph')\n",
        "        self.edges[src].append(dest)\n",
        "    def childrenOf(self, node):\n",
        "        return self.edges[node]\n",
        "    def hasNode(self, node):\n",
        "        return node in self.edges\n",
        "    def getNode(self, name):\n",
        "        for n in self.edges:\n",
        "            if n.getName() == name:\n",
        "                return n\n",
        "        raise NameError(name)\n",
        "    def __str__(self):\n",
        "        result = ''\n",
        "        for src in self.edges:\n",
        "            for dest in self.edges[src]:\n",
        "                result = result + src.getName() + '->'\\\n",
        "                         + dest.getName() + '\\n'\n",
        "        return result[:-1] #omit final newline"
      ]
    },
    {
      "cell_type": "markdown",
      "id": "4df80036",
      "metadata": {
        "id": "4df80036"
      },
      "source": [
        "4. Create a Graph class from Digraph class that deifnes the destination and Source"
      ]
    },
    {
      "cell_type": "code",
      "execution_count": null,
      "id": "451f786f",
      "metadata": {
        "id": "451f786f"
      },
      "outputs": [],
      "source": [
        "class Graph(Digraph):\n",
        "    def addEdge(self, edge):\n",
        "        Digraph.addEdge(self, edge)\n",
        "        rev = Edge(edge.getDestination(), edge.getSource())\n",
        "        Digraph.addEdge(self, rev)"
      ]
    },
    {
      "cell_type": "markdown",
      "id": "a1834ccf",
      "metadata": {
        "id": "a1834ccf"
      },
      "source": [
        "5. Create a buildCityGraph method to add nodes (City) and edges   (source to destination)"
      ]
    },
    {
      "cell_type": "code",
      "execution_count": null,
      "id": "048f4f16",
      "metadata": {
        "id": "048f4f16"
      },
      "outputs": [],
      "source": [
        "def buildCityGraph(graphType):\n",
        "    g = graphType()\n",
        "    for name in ('Boston', 'Providence', 'New York', 'Chicago', 'Denver', 'Phoenix', 'Los Angeles'):\n",
        "        #Create 7 nodes\n",
        "        g.addNode(Node(name))\n",
        "    g.addEdge(Edge(g.getNode('Boston'), g.getNode('Providence')))\n",
        "    g.addEdge(Edge(g.getNode('Boston'), g.getNode('New York')))\n",
        "    g.addEdge(Edge(g.getNode('Providence'), g.getNode('Boston')))\n",
        "    g.addEdge(Edge(g.getNode('Providence'), g.getNode('New York')))\n",
        "    g.addEdge(Edge(g.getNode('New York'), g.getNode('Chicago')))\n",
        "    g.addEdge(Edge(g.getNode('Chicago'), g.getNode('Denver')))\n",
        "    g.addEdge(Edge(g.getNode('Denver'), g.getNode('Phoenix')))\n",
        "    g.addEdge(Edge(g.getNode('Denver'), g.getNode('New York')))\n",
        "    g.addEdge(Edge(g.getNode('Los Angeles'), g.getNode('Boston')))\n",
        "    return g"
      ]
    },
    {
      "cell_type": "code",
      "execution_count": null,
      "id": "8172d371",
      "metadata": {
        "id": "8172d371"
      },
      "outputs": [],
      "source": [
        "def printPath(path):\n",
        "    \"\"\"Assumes path is a list of nodes\"\"\"\n",
        "    result = ''\n",
        "    for i in range(len(path)):\n",
        "        result = result + str(path[i])\n",
        "        if i != len(path) - 1:\n",
        "            result = result + '->'\n",
        "    return result"
      ]
    },
    {
      "cell_type": "markdown",
      "id": "b5d8bbe4",
      "metadata": {
        "id": "b5d8bbe4"
      },
      "source": [
        "6. Create a method to define DFS technique"
      ]
    },
    {
      "cell_type": "code",
      "execution_count": null,
      "id": "019a8c61",
      "metadata": {
        "id": "019a8c61"
      },
      "outputs": [],
      "source": [
        "def DFS(graph, start, end, path, shortest, toPrint = False):\n",
        "    \"\"\"Assumes graph is a Digraph; start and end are nodes;\n",
        "          path and shortest are lists of nodes\n",
        "       Returns a shortest path from start to end in graph\"\"\"\n",
        "    path = path + [start]\n",
        "    if toPrint:\n",
        "        print('Current DFS path:', printPath(path))\n",
        "    if start == end:\n",
        "        return path\n",
        "    for node in graph.childrenOf(start):\n",
        "        if node not in path: #avoid cycles\n",
        "            if shortest == None or len(path) < len(shortest):\n",
        "                newPath = DFS(graph, node, end, path, shortest,\n",
        "                              toPrint)\n",
        "                if newPath != None:\n",
        "                    shortest = newPath\n",
        "        elif toPrint:\n",
        "            print('Already visited', node)\n",
        "    return shortest"
      ]
    },
    {
      "cell_type": "markdown",
      "id": "9457ef55",
      "metadata": {
        "id": "9457ef55"
      },
      "source": [
        "7. Define a shortestPath method to return the shortest path from source to destination using DFS"
      ]
    },
    {
      "cell_type": "code",
      "execution_count": null,
      "id": "e435e3ce",
      "metadata": {
        "id": "e435e3ce"
      },
      "outputs": [],
      "source": [
        "def shortestPath(graph, start, end, toPrint = False):\n",
        "    \"\"\"Assumes graph is a Digraph; start and end are nodes\n",
        "       Returns a shortest path from start to end in graph\"\"\"\n",
        "    return DFS(graph, start, end, [], None, toPrint)"
      ]
    },
    {
      "cell_type": "markdown",
      "id": "084a1713",
      "metadata": {
        "id": "084a1713"
      },
      "source": [
        "8. Create a method to test the shortest path method"
      ]
    },
    {
      "cell_type": "code",
      "execution_count": null,
      "id": "4ebad313",
      "metadata": {
        "id": "4ebad313"
      },
      "outputs": [],
      "source": [
        "def testSP(source, destination):\n",
        "    g = buildCityGraph(Digraph)\n",
        "    sp = shortestPath(g, g.getNode(source), g.getNode(destination),\n",
        "                      toPrint = True)\n",
        "    if sp != None:\n",
        "        print('Shortest path from', source, 'to',\n",
        "              destination, 'is', printPath(sp))\n",
        "    else:\n",
        "        print('There is no path from', source, 'to', destination)"
      ]
    },
    {
      "cell_type": "markdown",
      "id": "397fcad6",
      "metadata": {
        "id": "397fcad6"
      },
      "source": [
        "9. Execute the testSP method"
      ]
    },
    {
      "cell_type": "code",
      "execution_count": null,
      "id": "7b0da96e",
      "metadata": {
        "id": "7b0da96e",
        "outputId": "9b5a9084-4dba-493d-d4be-117a4cc9c278",
        "colab": {
          "base_uri": "https://localhost:8080/"
        }
      },
      "outputs": [
        {
          "output_type": "stream",
          "name": "stdout",
          "text": [
            "Current DFS path: Boston\n",
            "Current DFS path: Boston->Providence\n",
            "Already visited Boston\n",
            "Current DFS path: Boston->Providence->New York\n",
            "Current DFS path: Boston->Providence->New York->Chicago\n",
            "Current DFS path: Boston->Providence->New York->Chicago->Denver\n",
            "Current DFS path: Boston->Providence->New York->Chicago->Denver->Phoenix\n",
            "Already visited New York\n",
            "Current DFS path: Boston->New York\n",
            "Current DFS path: Boston->New York->Chicago\n",
            "Current DFS path: Boston->New York->Chicago->Denver\n",
            "Current DFS path: Boston->New York->Chicago->Denver->Phoenix\n",
            "Already visited New York\n",
            "Shortest path from Boston to Phoenix is Boston->New York->Chicago->Denver->Phoenix\n"
          ]
        }
      ],
      "source": [
        "testSP('Boston', 'Phoenix')"
      ]
    },
    {
      "cell_type": "markdown",
      "id": "be62a0ea",
      "metadata": {
        "id": "be62a0ea"
      },
      "source": [
        "##### Question:\n",
        "    \n",
        "Describe the DFS method to compute for the shortest path using the given sample codes\n",
        "\n",
        "explores paths before backtracking to explore other paths and its not necessarily find the shortest path, and the path length is determined by the number of nodes visited."
      ]
    },
    {
      "cell_type": "markdown",
      "id": "cb6ecea8",
      "metadata": {
        "id": "cb6ecea8"
      },
      "source": [
        "#type your answer here"
      ]
    },
    {
      "cell_type": "markdown",
      "id": "7bec3a35",
      "metadata": {
        "id": "7bec3a35"
      },
      "source": [
        "10. Create a method to define BFS technique"
      ]
    },
    {
      "cell_type": "code",
      "execution_count": null,
      "id": "baddc3be",
      "metadata": {
        "id": "baddc3be"
      },
      "outputs": [],
      "source": [
        "def BFS(graph, start, end, toPrint = False):\n",
        "    \"\"\"Assumes graph is a Digraph; start and end are nodes\n",
        "       Returns a shortest path from start to end in graph\"\"\"\n",
        "    initPath = [start]\n",
        "    pathQueue = [initPath]\n",
        "    while len(pathQueue) != 0:\n",
        "        #Get and remove oldest element in pathQueue\n",
        "        tmpPath = pathQueue.pop(0)\n",
        "        if toPrint:\n",
        "            print('Current BFS path:', printPath(tmpPath))\n",
        "        lastNode = tmpPath[-1]\n",
        "        if lastNode == end:\n",
        "            return tmpPath\n",
        "        for nextNode in graph.childrenOf(lastNode):\n",
        "            if nextNode not in tmpPath:\n",
        "                newPath = tmpPath + [nextNode]\n",
        "                pathQueue.append(newPath)\n",
        "    return None"
      ]
    },
    {
      "cell_type": "markdown",
      "id": "050edf85",
      "metadata": {
        "id": "050edf85"
      },
      "source": [
        "11. Define a shortestPath method to return the shortest path from source to destination using DFS"
      ]
    },
    {
      "cell_type": "code",
      "execution_count": null,
      "id": "0a595716",
      "metadata": {
        "id": "0a595716"
      },
      "outputs": [],
      "source": [
        "def shortestPath(graph, start, end, toPrint = False):\n",
        "    \"\"\"Assumes graph is a Digraph; start and end are nodes\n",
        "       Returns a shortest path from start to end in graph\"\"\"\n",
        "    return BFS(graph, start, end, toPrint)"
      ]
    },
    {
      "cell_type": "markdown",
      "id": "abd00a05",
      "metadata": {
        "id": "abd00a05"
      },
      "source": [
        "12. Execute the testSP method"
      ]
    },
    {
      "cell_type": "code",
      "execution_count": null,
      "id": "a942ee6b",
      "metadata": {
        "id": "a942ee6b",
        "outputId": "5753cf59-3aa0-4ef8-f7ea-aa352aaa166d",
        "colab": {
          "base_uri": "https://localhost:8080/"
        }
      },
      "outputs": [
        {
          "output_type": "stream",
          "name": "stdout",
          "text": [
            "Current BFS path: Boston\n",
            "Current BFS path: Boston->Providence\n",
            "Current BFS path: Boston->New York\n",
            "Current BFS path: Boston->Providence->New York\n",
            "Current BFS path: Boston->New York->Chicago\n",
            "Current BFS path: Boston->Providence->New York->Chicago\n",
            "Current BFS path: Boston->New York->Chicago->Denver\n",
            "Current BFS path: Boston->Providence->New York->Chicago->Denver\n",
            "Current BFS path: Boston->New York->Chicago->Denver->Phoenix\n",
            "Shortest path from Boston to Phoenix is Boston->New York->Chicago->Denver->Phoenix\n"
          ]
        }
      ],
      "source": [
        "testSP('Boston', 'Phoenix')"
      ]
    },
    {
      "cell_type": "markdown",
      "id": "c7bbd794",
      "metadata": {
        "id": "c7bbd794"
      },
      "source": [
        "#### Question:\n",
        "    \n",
        "Describe the BFS method to compute for the shortest path using the given sample codestion:\n",
        "    explores all possible paths in a BFS method, guaranteeing that the first path found from start to end is the shortest."
      ]
    },
    {
      "cell_type": "markdown",
      "id": "287801ae",
      "metadata": {
        "id": "287801ae"
      },
      "source": [
        "#### Supplementary Activitiy\n",
        "* Use a specific location or city to solve transportation using graph\n",
        "* Use DFS and BFS methods to compute the shortest path\n",
        "* Display the shortest path from source to destination using DFS and BFS\n",
        "* Differentiate the performance of DFS from BFS"
      ]
    },
    {
      "cell_type": "markdown",
      "source": [
        "![image.png](data:image/png;base64,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)"
      ],
      "metadata": {
        "id": "3AuhXXax0ISS"
      },
      "id": "3AuhXXax0ISS"
    },
    {
      "cell_type": "code",
      "execution_count": null,
      "id": "b7e4231f",
      "metadata": {
        "id": "b7e4231f",
        "colab": {
          "base_uri": "https://localhost:8080/"
        },
        "outputId": "f18a9571-d8aa-4efe-a4d3-032cf786fdb8"
      },
      "outputs": [
        {
          "output_type": "stream",
          "name": "stdout",
          "text": [
            "Current BFS path: Anonas\n",
            "Current BFS path: Anonas->Katipunan\n",
            "Current BFS path: Anonas->SM\n",
            "Current BFS path: Anonas->Katipunan->Riverbanks\n",
            "Current BFS path: Anonas->Katipunan->SM\n",
            "Current BFS path: Anonas->Katipunan->Riverbanks\n",
            "Current BFS path: Anonas->SM->Katipunan\n",
            "Current BFS path: Anonas->Katipunan->Riverbanks->Provident\n",
            "Shortest path from Anonas to Provident: Anonas->Katipunan->Riverbanks->Provident\n"
          ]
        }
      ],
      "source": [
        "#BFS\n",
        "\n",
        "class Node(object):\n",
        "    def __init__(self, name):\n",
        "        self.name = name  #Initialize the name of the node\n",
        "\n",
        "    def getName(self):\n",
        "        return self.name  #Get the name of the node\n",
        "\n",
        "    def __str__(self):\n",
        "        return self.name  #Return the name when the object is converted to a string\n",
        "\n",
        "class Edge(object):\n",
        "    def __init__(self, src, dest):\n",
        "        self.src = src  #Initialize the source node of the edge\n",
        "        self.dest = dest  #Initialize the destination node of the edge\n",
        "\n",
        "    def getSource(self):\n",
        "        return self.src  #Get the source node of the edge\n",
        "\n",
        "    def getDestination(self):\n",
        "        return self.dest  #Get the destination node of the edge\n",
        "\n",
        "    def __str__(self):\n",
        "        return self.src.getName() + '->' + self.dest.getName()  #Return a string representation of the edge\n",
        "\n",
        "class Digraph(object):\n",
        "    def __init__(self):\n",
        "        self.edges = {}  #Initialize the edges dictionary\n",
        "\n",
        "    def addNode(self, node):\n",
        "        if node in self.edges:\n",
        "            raise ValueError('Duplicate node')  #Check if the node already exists\n",
        "        else:\n",
        "            self.edges[node] = []  #Add the node to the dictionary with an empty list of edges\n",
        "\n",
        "    def addEdge(self, edge):\n",
        "        src = edge.getSource()  #Get the source node of the edge\n",
        "        dest = edge.getDestination()  #Get the destination node of the edge\n",
        "        if not (src in self.edges and dest in self.edges):\n",
        "            raise ValueError('Node not in graph')  #Check if both nodes exist in the graph\n",
        "        self.edges[src].append(dest)  #Add the destination node to the list of edges for the source node\n",
        "\n",
        "    def childrenOf(self, node):\n",
        "        return self.edges[node]  #Return the list of children nodes for a given node\n",
        "\n",
        "    def hasNode(self, node):\n",
        "        return node in self.edges  #Check if a node exists in the graph\n",
        "\n",
        "    def getNode(self, name):\n",
        "        for n in self.edges:\n",
        "            if n.getName() == name:\n",
        "                return n  #Return the node with the given name\n",
        "        raise NameError(name)  #Raise an error if the node is not found\n",
        "\n",
        "    def __str__(self):\n",
        "        result = ''\n",
        "        for src in self.edges:\n",
        "            for dest in self.edges[src]:\n",
        "                result = result + src.getName() + '->' + dest.getName() + '\\n'  #Return a string representation of the graph\n",
        "        return result[:-1]  #Omit the final newline\n",
        "\n",
        "class Graph(Digraph):\n",
        "    def addEdge(self, edge):\n",
        "        Digraph.addEdge(self, edge)  #Add an edge to the graph\n",
        "        rev = Edge(edge.getDestination(), edge.getSource())\n",
        "        Digraph.addEdge(self, rev)  #Add a reversed edge to the graph\n",
        "\n",
        "def buildCityGraph(graphType):\n",
        "    g = graphType()  #Create a new graph\n",
        "    #Adding nodes\n",
        "    for name in ('Anonas', 'Katipunan', 'Riverbanks', 'Provident', 'SM'):\n",
        "        g.addNode(Node(name))  #Add nodes to the graph\n",
        "    #Adding edges\n",
        "    g.addEdge(Edge(g.getNode('Anonas'), g.getNode('Katipunan')))\n",
        "    g.addEdge(Edge(g.getNode('Katipunan'), g.getNode('Riverbanks')))\n",
        "    g.addEdge(Edge(g.getNode('Riverbanks'), g.getNode('Provident')))\n",
        "    g.addEdge(Edge(g.getNode('Anonas'), g.getNode('SM')))\n",
        "    g.addEdge(Edge(g.getNode('SM'), g.getNode('Katipunan')))\n",
        "    g.addEdge(Edge(g.getNode('Katipunan'), g.getNode('Riverbanks')))\n",
        "    g.addEdge(Edge(g.getNode('Riverbanks'), g.getNode('Provident')))\n",
        "    return g  #Return the built graph\n",
        "\n",
        "def BFS(graph, start, end, toPrint=False):\n",
        "    initPath = [start]  #Initialize the path with the start node\n",
        "    pathQueue = [initPath]  #Initialize the queue with the initial path\n",
        "    while len(pathQueue) != 0:\n",
        "        tmpPath = pathQueue.pop(0)  #Get the first path from the queue\n",
        "        if toPrint:\n",
        "            print('Current BFS path:', '->'.join([node.getName() for node in tmpPath]))  #Print current path if toPrint is True\n",
        "        lastNode = tmpPath[-1]  #Get the last node of the current path\n",
        "        if lastNode == end:\n",
        "            return tmpPath  #Return the path if the last node is the end node\n",
        "        for nextNode in graph.childrenOf(lastNode):\n",
        "            if nextNode not in tmpPath:\n",
        "                newPath = tmpPath + [nextNode]  #Create a new path by appending the next node\n",
        "                pathQueue.append(newPath)  #Add the new path to the queue\n",
        "    return None  #Return None if no path is found\n",
        "\n",
        "def testSP(start, end):\n",
        "    cityGraph = buildCityGraph(Graph)  #Build the city graph\n",
        "    startLocation = cityGraph.getNode('Anonas')  #Get the start location node\n",
        "    endLocation = cityGraph.getNode('Provident')  #Get the end location node\n",
        "    shortestPath = BFS(cityGraph, startLocation, endLocation, toPrint=True)  #Find the shortest path from start to end\n",
        "    if shortestPath is not None:\n",
        "        print('Shortest path from Anonas to Provident:', '->'.join([node.getName() for node in shortestPath]))  #Print the shortest path\n",
        "    else:\n",
        "        print('There is no path from Anonas to Provident.')  #Print if there is no path\n",
        "\n",
        "def shortestPath(graph, start, end, toPrint = False):\n",
        "    \"\"\"Assumes graph is a Digraph; start and end are nodes\n",
        "       Returns a shortest path from start to end in graph\"\"\"\n",
        "    return BFS(graph, start, end, toPrint)  #Find the shortest path in the graph\n",
        "\n",
        "testSP('Anonas', 'Provident')  #Test the function with start and end points"
      ]
    },
    {
      "cell_type": "code",
      "execution_count": null,
      "id": "baecad6d",
      "metadata": {
        "id": "baecad6d",
        "colab": {
          "base_uri": "https://localhost:8080/"
        },
        "outputId": "5706fbf1-1e6e-4eae-c002-423f7d91a327"
      },
      "outputs": [
        {
          "output_type": "stream",
          "name": "stdout",
          "text": [
            "Current DFS path: Anonas\n",
            "Current DFS path: Anonas -> Katipunan\n",
            "Current DFS path: Anonas -> Katipunan -> Riverbanks\n",
            "Current DFS path: Anonas -> Katipunan -> Riverbanks -> Provident\n",
            "Current DFS path: Anonas -> Katipunan -> Riverbanks -> Provident\n",
            "Current DFS path: Anonas -> Katipunan -> Riverbanks\n",
            "Current DFS path: Anonas -> Katipunan -> Riverbanks -> Provident\n",
            "Current DFS path: Anonas -> Katipunan -> Riverbanks -> Provident\n",
            "Current DFS path: Anonas -> SM\n",
            "Current DFS path: Anonas -> SM -> Katipunan\n",
            "Current DFS path: Anonas -> SM -> Katipunan -> Riverbanks\n",
            "Current DFS path: Anonas -> SM -> Katipunan -> Riverbanks\n",
            "Shortest path from Anonas to Provident is Anonas -> Katipunan -> Riverbanks -> Provident\n"
          ]
        }
      ],
      "source": [
        "#DFS\n",
        "\n",
        "class Node(object):\n",
        "    def __init__(self, name):\n",
        "        self.name = name  #Initialize the name of the node\n",
        "\n",
        "    def getName(self):\n",
        "        return self.name  #Get the name of the node\n",
        "\n",
        "    def __str__(self):\n",
        "        return self.name  #Return the name when the object is converted to a string\n",
        "\n",
        "class Edge(object):\n",
        "    def __init__(self, src, dest):\n",
        "        self.src = src  #Initialize the source node of the edge\n",
        "        self.dest = dest  #Initialize the destination node of the edge\n",
        "\n",
        "    def getSource(self):\n",
        "        return self.src  #Get the source node of the edge\n",
        "\n",
        "    def getDestination(self):\n",
        "        return self.dest  #Get the destination node of the edge\n",
        "\n",
        "    def __str__(self):\n",
        "        return self.src.getName() + '->' + self.dest.getName()  #Return a string representation of the edge\n",
        "\n",
        "class Digraph(object):\n",
        "    def __init__(self):\n",
        "        self.edges = {}  #Initialize the edges dictionary\n",
        "\n",
        "    def addNode(self, node):\n",
        "        if node in self.edges:\n",
        "            raise ValueError('Duplicate node')  #Check if the node already exists\n",
        "        else:\n",
        "            self.edges[node] = []  #Add the node to the dictionary with an empty list of edges\n",
        "\n",
        "    def addEdge(self, edge):\n",
        "        src = edge.getSource()  #Get the source node of the edge\n",
        "        dest = edge.getDestination()  #Get the destination node of the edge\n",
        "        if not (src in self.edges and dest in self.edges):\n",
        "            raise ValueError('Node not in graph')  #Check if both nodes exist in the graph\n",
        "        self.edges[src].append(dest)  #Add the destination node to the list of edges for the source node\n",
        "\n",
        "    def childrenOf(self, node):\n",
        "        return self.edges[node]  #Return the list of children nodes for a given node\n",
        "\n",
        "    def hasNode(self, node):\n",
        "        return node in self.edges  #Check if a node exists in the graph\n",
        "\n",
        "    def getNode(self, name):\n",
        "        for n in self.edges:\n",
        "            if n.getName() == name:\n",
        "                return n  #Return the node with the given name\n",
        "        raise NameError(name)  #Raise an error if the node is not found\n",
        "\n",
        "    def __str__(self):\n",
        "        result = ''\n",
        "        for src in self.edges:\n",
        "            for dest in self.edges[src]:\n",
        "                result = result + src.getName() + '->' + dest.getName() + '\\n'  #Return a string representation of the graph\n",
        "        return result[:-1]  #Omit the final newline\n",
        "\n",
        "class Graph(Digraph):\n",
        "    def addEdge(self, edge):\n",
        "        Digraph.addEdge(self, edge)  #Add an edge to the graph\n",
        "        rev = Edge(edge.getDestination(), edge.getSource())\n",
        "        Digraph.addEdge(self, rev)  #Add a reversed edge to the graph\n",
        "\n",
        "def buildCityGraph(graphType):\n",
        "    g = graphType()  #Create a new graph\n",
        "    #Adding nodes\n",
        "    for name in ('Anonas', 'Katipunan', 'Riverbanks', 'Provident', 'SM'):\n",
        "        g.addNode(Node(name))  #Add nodes to the graph\n",
        "    #Adding edges\n",
        "    g.addEdge(Edge(g.getNode('Anonas'), g.getNode('Katipunan')))\n",
        "    g.addEdge(Edge(g.getNode('Katipunan'), g.getNode('Riverbanks')))\n",
        "    g.addEdge(Edge(g.getNode('Riverbanks'), g.getNode('Provident')))\n",
        "    g.addEdge(Edge(g.getNode('Anonas'), g.getNode('SM')))\n",
        "    g.addEdge(Edge(g.getNode('SM'), g.getNode('Katipunan')))\n",
        "    g.addEdge(Edge(g.getNode('Katipunan'), g.getNode('Riverbanks')))\n",
        "    g.addEdge(Edge(g.getNode('Riverbanks'), g.getNode('Provident')))\n",
        "    return g  #Return the built graph\n",
        "\n",
        "#Define a Depth-First Search (DFS) function to find the shortest path in a graph\n",
        "def DFS(graph, start, end, path, shortest, toPrint=False):\n",
        "    \"\"\"Assumes graph is a Digraph; start and end are nodes;\n",
        "          path and shortest are lists of nodes\n",
        "       Returns a shortest path from start to end in graph\"\"\"\n",
        "    path = path + [start]  #Append the current start node to the path.\n",
        "    if toPrint:  #If toPrint is True.\n",
        "        print('Current DFS path:', printPath(path))  #Print the current DFS path.\n",
        "    if start == end:  #If the start node is equal to the end node.\n",
        "        return path  #Return the path.\n",
        "    for node in graph.childrenOf(start):  #Iterate over the children nodes of the current start node in the graph.\n",
        "        if node not in path:  #If the node is not already in the path (to avoid cycles).\n",
        "            if shortest == None or len(path) < len(shortest):  #If shortest is None or the current path is shorter than the shortest path.\n",
        "                newPath = DFS(graph, node, end, path, shortest, toPrint)  #Recursively call DFS with the new node.\n",
        "                if newPath != None:  #If a new path is found.\n",
        "                    shortest = newPath  #Update the shortest path.\n",
        "        elif toPrint:  #If the node has already been visited and toPrint is True.\n",
        "            print('Already visited', node)  #Print a message indicating the node has already been visited.\n",
        "    return shortest  #Return the shortest path found.\n",
        "\n",
        "#shortestPath with parameters graph, start, end, and an optional parameter toPrint, which defaults to False.\n",
        "def shortestPath(graph, start, end, toPrint = False):\n",
        "    \"\"\"Assumes graph is a Digraph; start and end are nodes\n",
        "       Returns a shortest path from start to end in graph\"\"\"\n",
        "    return DFS(graph, start, end, [], None, toPrint)  #Call DFS function to find the shortest path.\n",
        "\n",
        "def testSP(source, destination):  #Define a function testSP with parameters source and destination.\n",
        "    g = buildCityGraph(Digraph)  #Create a directed graph g using buildCityGraph function.\n",
        "    #Find the shortest path from source to destination in graph g.\n",
        "    sp = shortestPath(g, g.getNode(source), g.getNode(destination), toPrint = True)\n",
        "    if sp != None:  # If a shortest path is found.\n",
        "        print('Shortest path from', source, 'to', destination, 'is', printPath(sp))  #Print the shortest path.\n",
        "    else:  # If no path is found.\n",
        "        print('There is no path from', source, 'to', destination)  #Print a message indicating there is no path.\n",
        "\n",
        "testSP('Anonas', 'Provident')  #Test the function with source 'Anonas' and destination 'Provident'.\n"
      ]
    },
    {
      "cell_type": "markdown",
      "id": "a8447b32",
      "metadata": {
        "id": "a8447b32"
      },
      "source": [
        "#Type your evaluation about the performance of DFS and BFS\n",
        "\n",
        "DFS\n",
        "- more detailed\n",
        "- take a while to finish. It's like exploring all the path by going as far as you can down one path before trying another.\n",
        "\n",
        "BFS\n",
        "- more specific\n",
        "- checking all nearby paths first before going farther\n",
        "- BFS guarantees the shortest way"
      ]
    },
    {
      "cell_type": "markdown",
      "id": "159ad18e",
      "metadata": {
        "id": "159ad18e"
      },
      "source": [
        "#### Conclusion"
      ]
    },
    {
      "cell_type": "markdown",
      "id": "b384d644",
      "metadata": {
        "id": "b384d644"
      },
      "source": [
        "#type your conclusion here"
      ]
    },
    {
      "cell_type": "code",
      "execution_count": null,
      "id": "869a5e99",
      "metadata": {
        "id": "869a5e99"
      },
      "outputs": [],
      "source": [
        "\"\"\" Through this hands-on activity, I was able learn how to use graphs to calculate the shortest path\n",
        "    between a source and a destination and how to apply DFS and BFS to accomplish so. Additionally, I did\n",
        "    the supplementary activity, which helped me understand the technique and evaluate the way DFS and BFS performed.\"\"\""
      ]
    }
  ],
  "metadata": {
    "kernelspec": {
      "display_name": "Python 3",
      "language": "python",
      "name": "python3"
    },
    "language_info": {
      "codemirror_mode": {
        "name": "ipython",
        "version": 3
      },
      "file_extension": ".py",
      "mimetype": "text/x-python",
      "name": "python",
      "nbconvert_exporter": "python",
      "pygments_lexer": "ipython3",
      "version": "3.7.10"
    },
    "colab": {
      "provenance": []
    }
  },
  "nbformat": 4,
  "nbformat_minor": 5
}